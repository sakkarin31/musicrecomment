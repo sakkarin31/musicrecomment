{
  "nbformat": 4,
  "nbformat_minor": 0,
  "metadata": {
    "colab": {
      "provenance": [],
      "toc_visible": true,
      "gpuType": "T4",
      "authorship_tag": "ABX9TyPPK7rQ75AjelXx9wuXfhP2",
      "include_colab_link": true
    },
    "kernelspec": {
      "name": "python3",
      "display_name": "Python 3"
    },
    "language_info": {
      "name": "python"
    },
    "accelerator": "GPU"
  },
  "cells": [
    {
      "cell_type": "markdown",
      "metadata": {
        "id": "view-in-github",
        "colab_type": "text"
      },
      "source": [
        "<a href=\"https://colab.research.google.com/github/sakkarin31/musicrecomment/blob/main/miniMLmusic.ipynb\" target=\"_parent\"><img src=\"https://colab.research.google.com/assets/colab-badge.svg\" alt=\"Open In Colab\"/></a>"
      ]
    },
    {
      "cell_type": "code",
      "execution_count": 2,
      "metadata": {
        "id": "VvRpt-zGZdnq"
      },
      "outputs": [],
      "source": [
        "import pandas as pd\n",
        "import numpy as np\n",
        "import tensorflow as tf\n",
        "from tensorflow.keras.models import Model\n",
        "from tensorflow.keras.layers import Input, Dense\n",
        "\n",
        "# โหลด Dataset\n",
        "df = pd.read_csv(\"dataset.csv\")\n",
        "\n",
        "# เลือกเฉพาะ Feature ที่ใช้เทรนโมเดล\n",
        "features = ['danceability', 'energy', 'key', 'loudness', 'speechiness', 'acousticness', 'instrumentalness', 'valence', 'tempo']\n",
        "X = df[features].values\n",
        "\n",
        "# Normalize ข้อมูล\n",
        "from sklearn.preprocessing import StandardScaler\n",
        "scaler = StandardScaler()\n",
        "X_scaled = scaler.fit_transform(X)\n"
      ]
    },
    {
      "cell_type": "code",
      "source": [
        "from tensorflow.keras.models import Model\n",
        "from tensorflow.keras.layers import Input, Dense\n",
        "from tensorflow.keras.optimizers import Adam\n",
        "\n",
        "# กำหนดขนาด Input\n",
        "input_dim = X_scaled.shape[1]\n",
        "\n",
        "# Encoder (เพิ่มจำนวนชั้นและจำนวนหน่วยในแต่ละชั้น)\n",
        "input_layer = Input(shape=(input_dim,))\n",
        "encoded = Dense(64, activation='relu')(input_layer)  # เพิ่มขนาดเป็น 64\n",
        "encoded = Dense(32, activation='relu')(encoded)  # เพิ่มขนาดเป็น 32\n",
        "encoded = Dense(16, activation='relu')(encoded)  # ขนาด 16\n",
        "\n",
        "# Decoder (เปลี่ยน activation เป็น linear เพื่อให้สามารถสร้างค่าที่ไม่ถูกจำกัด)\n",
        "decoded = Dense(32, activation='relu')(encoded)  # ขนาด 32\n",
        "decoded = Dense(64, activation='relu')(decoded)  # ขนาด 64\n",
        "decoded = Dense(input_dim, activation='linear')(decoded)  # ใช้ linear เพราะค่าไม่ควรถูกจำกัด\n",
        "\n",
        "# สร้างโมเดล Autoencoder\n",
        "autoencoder = Model(input_layer, decoded)\n",
        "\n",
        "# ใช้ Adam optimizer และ Mean Squared Error loss function\n",
        "autoencoder.compile(optimizer=Adam(learning_rate=0.001), loss='mse')\n"
      ],
      "metadata": {
        "id": "-Q5qnK0daFJL"
      },
      "execution_count": 5,
      "outputs": []
    },
    {
      "cell_type": "code",
      "source": [
        "# เทรนโมเดล\n",
        "autoencoder.fit(X_scaled, X_scaled, epochs=50, batch_size=32, shuffle=True)\n"
      ],
      "metadata": {
        "colab": {
          "base_uri": "https://localhost:8080/"
        },
        "id": "8rjv5stlb9Eo",
        "outputId": "55b83d05-16d1-4dcb-a471-65f642d7f0ae"
      },
      "execution_count": 6,
      "outputs": [
        {
          "output_type": "stream",
          "name": "stdout",
          "text": [
            "Epoch 1/50\n",
            "\u001b[1m3563/3563\u001b[0m \u001b[32m━━━━━━━━━━━━━━━━━━━━\u001b[0m\u001b[37m\u001b[0m \u001b[1m12s\u001b[0m 2ms/step - loss: 0.1068\n",
            "Epoch 2/50\n",
            "\u001b[1m3563/3563\u001b[0m \u001b[32m━━━━━━━━━━━━━━━━━━━━\u001b[0m\u001b[37m\u001b[0m \u001b[1m8s\u001b[0m 2ms/step - loss: 7.9401e-04\n",
            "Epoch 3/50\n",
            "\u001b[1m3563/3563\u001b[0m \u001b[32m━━━━━━━━━━━━━━━━━━━━\u001b[0m\u001b[37m\u001b[0m \u001b[1m10s\u001b[0m 2ms/step - loss: 2.7048e-04\n",
            "Epoch 4/50\n",
            "\u001b[1m3563/3563\u001b[0m \u001b[32m━━━━━━━━━━━━━━━━━━━━\u001b[0m\u001b[37m\u001b[0m \u001b[1m8s\u001b[0m 2ms/step - loss: 2.6774e-04\n",
            "Epoch 5/50\n",
            "\u001b[1m3563/3563\u001b[0m \u001b[32m━━━━━━━━━━━━━━━━━━━━\u001b[0m\u001b[37m\u001b[0m \u001b[1m8s\u001b[0m 2ms/step - loss: 2.5745e-04\n",
            "Epoch 6/50\n",
            "\u001b[1m3563/3563\u001b[0m \u001b[32m━━━━━━━━━━━━━━━━━━━━\u001b[0m\u001b[37m\u001b[0m \u001b[1m8s\u001b[0m 2ms/step - loss: 1.8057e-04\n",
            "Epoch 7/50\n",
            "\u001b[1m3563/3563\u001b[0m \u001b[32m━━━━━━━━━━━━━━━━━━━━\u001b[0m\u001b[37m\u001b[0m \u001b[1m8s\u001b[0m 2ms/step - loss: 1.8548e-04\n",
            "Epoch 8/50\n",
            "\u001b[1m3563/3563\u001b[0m \u001b[32m━━━━━━━━━━━━━━━━━━━━\u001b[0m\u001b[37m\u001b[0m \u001b[1m8s\u001b[0m 2ms/step - loss: 2.2367e-04\n",
            "Epoch 9/50\n",
            "\u001b[1m3563/3563\u001b[0m \u001b[32m━━━━━━━━━━━━━━━━━━━━\u001b[0m\u001b[37m\u001b[0m \u001b[1m13s\u001b[0m 3ms/step - loss: 1.7147e-04\n",
            "Epoch 10/50\n",
            "\u001b[1m3563/3563\u001b[0m \u001b[32m━━━━━━━━━━━━━━━━━━━━\u001b[0m\u001b[37m\u001b[0m \u001b[1m8s\u001b[0m 2ms/step - loss: 2.4426e-04\n",
            "Epoch 11/50\n",
            "\u001b[1m3563/3563\u001b[0m \u001b[32m━━━━━━━━━━━━━━━━━━━━\u001b[0m\u001b[37m\u001b[0m \u001b[1m10s\u001b[0m 2ms/step - loss: 1.7017e-04\n",
            "Epoch 12/50\n",
            "\u001b[1m3563/3563\u001b[0m \u001b[32m━━━━━━━━━━━━━━━━━━━━\u001b[0m\u001b[37m\u001b[0m \u001b[1m10s\u001b[0m 2ms/step - loss: 2.6380e-04\n",
            "Epoch 13/50\n",
            "\u001b[1m3563/3563\u001b[0m \u001b[32m━━━━━━━━━━━━━━━━━━━━\u001b[0m\u001b[37m\u001b[0m \u001b[1m10s\u001b[0m 2ms/step - loss: 1.9393e-04\n",
            "Epoch 14/50\n",
            "\u001b[1m3563/3563\u001b[0m \u001b[32m━━━━━━━━━━━━━━━━━━━━\u001b[0m\u001b[37m\u001b[0m \u001b[1m10s\u001b[0m 2ms/step - loss: 1.8690e-04\n",
            "Epoch 15/50\n",
            "\u001b[1m3563/3563\u001b[0m \u001b[32m━━━━━━━━━━━━━━━━━━━━\u001b[0m\u001b[37m\u001b[0m \u001b[1m8s\u001b[0m 2ms/step - loss: 2.0313e-04\n",
            "Epoch 16/50\n",
            "\u001b[1m3563/3563\u001b[0m \u001b[32m━━━━━━━━━━━━━━━━━━━━\u001b[0m\u001b[37m\u001b[0m \u001b[1m8s\u001b[0m 2ms/step - loss: 1.6216e-04\n",
            "Epoch 17/50\n",
            "\u001b[1m3563/3563\u001b[0m \u001b[32m━━━━━━━━━━━━━━━━━━━━\u001b[0m\u001b[37m\u001b[0m \u001b[1m8s\u001b[0m 2ms/step - loss: 1.6833e-04\n",
            "Epoch 18/50\n",
            "\u001b[1m3563/3563\u001b[0m \u001b[32m━━━━━━━━━━━━━━━━━━━━\u001b[0m\u001b[37m\u001b[0m \u001b[1m9s\u001b[0m 2ms/step - loss: 1.6846e-04\n",
            "Epoch 19/50\n",
            "\u001b[1m3563/3563\u001b[0m \u001b[32m━━━━━━━━━━━━━━━━━━━━\u001b[0m\u001b[37m\u001b[0m \u001b[1m10s\u001b[0m 2ms/step - loss: 1.8005e-04\n",
            "Epoch 20/50\n",
            "\u001b[1m3563/3563\u001b[0m \u001b[32m━━━━━━━━━━━━━━━━━━━━\u001b[0m\u001b[37m\u001b[0m \u001b[1m10s\u001b[0m 2ms/step - loss: 1.9954e-04\n",
            "Epoch 21/50\n",
            "\u001b[1m3563/3563\u001b[0m \u001b[32m━━━━━━━━━━━━━━━━━━━━\u001b[0m\u001b[37m\u001b[0m \u001b[1m8s\u001b[0m 2ms/step - loss: 2.0523e-04\n",
            "Epoch 22/50\n",
            "\u001b[1m3563/3563\u001b[0m \u001b[32m━━━━━━━━━━━━━━━━━━━━\u001b[0m\u001b[37m\u001b[0m \u001b[1m9s\u001b[0m 2ms/step - loss: 1.5575e-04\n",
            "Epoch 23/50\n",
            "\u001b[1m3563/3563\u001b[0m \u001b[32m━━━━━━━━━━━━━━━━━━━━\u001b[0m\u001b[37m\u001b[0m \u001b[1m9s\u001b[0m 2ms/step - loss: 1.4375e-04\n",
            "Epoch 24/50\n",
            "\u001b[1m3563/3563\u001b[0m \u001b[32m━━━━━━━━━━━━━━━━━━━━\u001b[0m\u001b[37m\u001b[0m \u001b[1m10s\u001b[0m 2ms/step - loss: 1.0992e-04\n",
            "Epoch 25/50\n",
            "\u001b[1m3563/3563\u001b[0m \u001b[32m━━━━━━━━━━━━━━━━━━━━\u001b[0m\u001b[37m\u001b[0m \u001b[1m10s\u001b[0m 2ms/step - loss: 1.8075e-04\n",
            "Epoch 26/50\n",
            "\u001b[1m3563/3563\u001b[0m \u001b[32m━━━━━━━━━━━━━━━━━━━━\u001b[0m\u001b[37m\u001b[0m \u001b[1m10s\u001b[0m 2ms/step - loss: 1.3122e-04\n",
            "Epoch 27/50\n",
            "\u001b[1m3563/3563\u001b[0m \u001b[32m━━━━━━━━━━━━━━━━━━━━\u001b[0m\u001b[37m\u001b[0m \u001b[1m8s\u001b[0m 2ms/step - loss: 1.2891e-04\n",
            "Epoch 28/50\n",
            "\u001b[1m3563/3563\u001b[0m \u001b[32m━━━━━━━━━━━━━━━━━━━━\u001b[0m\u001b[37m\u001b[0m \u001b[1m8s\u001b[0m 2ms/step - loss: 1.4741e-04\n",
            "Epoch 29/50\n",
            "\u001b[1m3563/3563\u001b[0m \u001b[32m━━━━━━━━━━━━━━━━━━━━\u001b[0m\u001b[37m\u001b[0m \u001b[1m10s\u001b[0m 2ms/step - loss: 1.6800e-04\n",
            "Epoch 30/50\n",
            "\u001b[1m3563/3563\u001b[0m \u001b[32m━━━━━━━━━━━━━━━━━━━━\u001b[0m\u001b[37m\u001b[0m \u001b[1m10s\u001b[0m 2ms/step - loss: 1.4607e-04\n",
            "Epoch 31/50\n",
            "\u001b[1m3563/3563\u001b[0m \u001b[32m━━━━━━━━━━━━━━━━━━━━\u001b[0m\u001b[37m\u001b[0m \u001b[1m10s\u001b[0m 2ms/step - loss: 1.4226e-04\n",
            "Epoch 32/50\n",
            "\u001b[1m3563/3563\u001b[0m \u001b[32m━━━━━━━━━━━━━━━━━━━━\u001b[0m\u001b[37m\u001b[0m \u001b[1m9s\u001b[0m 2ms/step - loss: 9.9435e-05\n",
            "Epoch 33/50\n",
            "\u001b[1m3563/3563\u001b[0m \u001b[32m━━━━━━━━━━━━━━━━━━━━\u001b[0m\u001b[37m\u001b[0m \u001b[1m8s\u001b[0m 2ms/step - loss: 1.6581e-04\n",
            "Epoch 34/50\n",
            "\u001b[1m3563/3563\u001b[0m \u001b[32m━━━━━━━━━━━━━━━━━━━━\u001b[0m\u001b[37m\u001b[0m \u001b[1m10s\u001b[0m 2ms/step - loss: 1.3534e-04\n",
            "Epoch 35/50\n",
            "\u001b[1m3563/3563\u001b[0m \u001b[32m━━━━━━━━━━━━━━━━━━━━\u001b[0m\u001b[37m\u001b[0m \u001b[1m8s\u001b[0m 2ms/step - loss: 1.3961e-04\n",
            "Epoch 36/50\n",
            "\u001b[1m3563/3563\u001b[0m \u001b[32m━━━━━━━━━━━━━━━━━━━━\u001b[0m\u001b[37m\u001b[0m \u001b[1m8s\u001b[0m 2ms/step - loss: 1.2833e-04\n",
            "Epoch 37/50\n",
            "\u001b[1m3563/3563\u001b[0m \u001b[32m━━━━━━━━━━━━━━━━━━━━\u001b[0m\u001b[37m\u001b[0m \u001b[1m8s\u001b[0m 2ms/step - loss: 1.7730e-04\n",
            "Epoch 38/50\n",
            "\u001b[1m3563/3563\u001b[0m \u001b[32m━━━━━━━━━━━━━━━━━━━━\u001b[0m\u001b[37m\u001b[0m \u001b[1m8s\u001b[0m 2ms/step - loss: 1.6446e-04\n",
            "Epoch 39/50\n",
            "\u001b[1m3563/3563\u001b[0m \u001b[32m━━━━━━━━━━━━━━━━━━━━\u001b[0m\u001b[37m\u001b[0m \u001b[1m11s\u001b[0m 2ms/step - loss: 1.5452e-04\n",
            "Epoch 40/50\n",
            "\u001b[1m3563/3563\u001b[0m \u001b[32m━━━━━━━━━━━━━━━━━━━━\u001b[0m\u001b[37m\u001b[0m \u001b[1m8s\u001b[0m 2ms/step - loss: 1.5059e-04\n",
            "Epoch 41/50\n",
            "\u001b[1m3563/3563\u001b[0m \u001b[32m━━━━━━━━━━━━━━━━━━━━\u001b[0m\u001b[37m\u001b[0m \u001b[1m8s\u001b[0m 2ms/step - loss: 1.1672e-04\n",
            "Epoch 42/50\n",
            "\u001b[1m3563/3563\u001b[0m \u001b[32m━━━━━━━━━━━━━━━━━━━━\u001b[0m\u001b[37m\u001b[0m \u001b[1m10s\u001b[0m 2ms/step - loss: 1.2913e-04\n",
            "Epoch 43/50\n",
            "\u001b[1m3563/3563\u001b[0m \u001b[32m━━━━━━━━━━━━━━━━━━━━\u001b[0m\u001b[37m\u001b[0m \u001b[1m9s\u001b[0m 2ms/step - loss: 1.2701e-04\n",
            "Epoch 44/50\n",
            "\u001b[1m3563/3563\u001b[0m \u001b[32m━━━━━━━━━━━━━━━━━━━━\u001b[0m\u001b[37m\u001b[0m \u001b[1m10s\u001b[0m 2ms/step - loss: 1.2424e-04\n",
            "Epoch 45/50\n",
            "\u001b[1m3563/3563\u001b[0m \u001b[32m━━━━━━━━━━━━━━━━━━━━\u001b[0m\u001b[37m\u001b[0m \u001b[1m8s\u001b[0m 2ms/step - loss: 1.0511e-04\n",
            "Epoch 46/50\n",
            "\u001b[1m3563/3563\u001b[0m \u001b[32m━━━━━━━━━━━━━━━━━━━━\u001b[0m\u001b[37m\u001b[0m \u001b[1m10s\u001b[0m 2ms/step - loss: 1.1797e-04\n",
            "Epoch 47/50\n",
            "\u001b[1m3563/3563\u001b[0m \u001b[32m━━━━━━━━━━━━━━━━━━━━\u001b[0m\u001b[37m\u001b[0m \u001b[1m10s\u001b[0m 2ms/step - loss: 1.2069e-04\n",
            "Epoch 48/50\n",
            "\u001b[1m3563/3563\u001b[0m \u001b[32m━━━━━━━━━━━━━━━━━━━━\u001b[0m\u001b[37m\u001b[0m \u001b[1m10s\u001b[0m 2ms/step - loss: 1.4604e-04\n",
            "Epoch 49/50\n",
            "\u001b[1m3563/3563\u001b[0m \u001b[32m━━━━━━━━━━━━━━━━━━━━\u001b[0m\u001b[37m\u001b[0m \u001b[1m9s\u001b[0m 2ms/step - loss: 1.6216e-04\n",
            "Epoch 50/50\n",
            "\u001b[1m3563/3563\u001b[0m \u001b[32m━━━━━━━━━━━━━━━━━━━━\u001b[0m\u001b[37m\u001b[0m \u001b[1m9s\u001b[0m 2ms/step - loss: 1.5089e-04\n"
          ]
        },
        {
          "output_type": "execute_result",
          "data": {
            "text/plain": [
              "<keras.src.callbacks.history.History at 0x7af46aa56650>"
            ]
          },
          "metadata": {},
          "execution_count": 6
        }
      ]
    },
    {
      "cell_type": "code",
      "source": [
        "# สร้าง Encoder Model\n",
        "encoder = Model(input_layer, encoded)\n",
        "\n",
        "# แปลงเพลงเป็นเวกเตอร์\n",
        "X_encoded = encoder.predict(X_scaled)\n",
        "\n",
        "from sklearn.metrics.pairwise import cosine_similarity\n",
        "\n",
        "# หาเพลงที่คล้ายกัน โดยใช้ชื่อเพลงและชื่อนักร้อง\n",
        "def recommend_similar(song_name, artist_name, df, top_n=5):\n",
        "    # ค้นหาเพลงและนักร้องที่ตรงกันใน DataFrame\n",
        "    song_index = df[(df['track_name'].str.lower() == song_name.lower()) &\n",
        "                    (df['artists'].str.lower() == artist_name.lower())].index\n",
        "\n",
        "    if len(song_index) == 0:\n",
        "        return \"❌ ไม่พบเพลงนี้ใน Dataset\"\n",
        "\n",
        "    # ดึงเวกเตอร์ของเพลงที่ค้นหา\n",
        "    song_vector = X_encoded[song_index]\n",
        "\n",
        "    # คำนวณความคล้ายคลึงระหว่างเพลงที่เลือกและเพลงใน dataset\n",
        "    similarity = cosine_similarity(song_vector, X_encoded)\n",
        "\n",
        "    # หาเพลงที่คล้ายที่สุด (top_n เพลง) โดยใช้การจัดอันดับ\n",
        "    indices = similarity.argsort()[0][-top_n-1:-1][::-1]\n",
        "    recommended_songs = df.iloc[indices]\n",
        "\n",
        "    # กรองเพลงที่เหมือนกันทั้งชื่อเพลงและศิลปินออกจากผลลัพธ์\n",
        "    recommended_songs = recommended_songs[~((recommended_songs['track_name'].str.lower() == song_name.lower()) &\n",
        "                                            (recommended_songs['artists'].str.lower() == artist_name.lower()))]\n",
        "    #กรองซ้ำจากเพลงที่แนะนำแล้ว\n",
        "    recommended_songs = recommended_songs.drop_duplicates(subset=['track_name', 'artists'])\n",
        "    # ตรวจสอบว่าจำนวนเพลงที่แนะนำยังไม่ครบตามจำนวนที่ต้องการ\n",
        "    num_recommended = len(recommended_songs)\n",
        "\n",
        "    # เก็บชื่อเพลงและนักร้องที่แนะนำแล้ว\n",
        "    recommended_song_titles = set(recommended_songs['track_name'].str.lower() + \" \" + recommended_songs['artists'].str.lower())\n",
        "\n",
        "    # กรณีที่แนะนำเพลงยังไม่ครบจำนวน top_n\n",
        "    if num_recommended < top_n:\n",
        "        # หาเพลงที่คล้ายกันเพิ่มเติมจากที่เหลือ\n",
        "        remaining_indices = similarity.argsort()[0][::-1]  # เลือกเพลงที่คล้ายที่สุดทั้งหมด\n",
        "        remaining_songs = df.iloc[remaining_indices]\n",
        "\n",
        "        # กรองเพลงที่ซ้ำ (ชื่อเพลงและนักร้องเดียวกัน) ออก\n",
        "        remaining_songs = remaining_songs[~((remaining_songs['track_name'].str.lower() == song_name.lower()) &\n",
        "                                            (remaining_songs['artists'].str.lower() == artist_name.lower()))]\n",
        "\n",
        "        # ลบเพลงที่เคยแนะนำไปแล้วจาก remaining_songs\n",
        "        remaining_songs = remaining_songs[~((remaining_songs['track_name'].str.lower() + \" \" + remaining_songs['artists'].str.lower()).isin(recommended_song_titles))]\n",
        "\n",
        "        # เอาผลลัพธ์ที่เหลือมารวมกันเพื่อให้ได้จำนวนที่ต้องการ\n",
        "        recommended_songs = pd.concat([recommended_songs, remaining_songs]).drop_duplicates(subset=['track_name', 'artists'])\n",
        "\n",
        "    # ตรวจสอบให้ได้จำนวนเพลงที่แนะนำครบตาม top_n\n",
        "    recommended_songs = recommended_songs.head(top_n)\n",
        "\n",
        "    # หากไม่พบเพลงที่คล้ายคลึงกัน (กรณีที่กรองแล้วไม่มีเพลงในรายการแนะนำ)\n",
        "    if recommended_songs.empty:\n",
        "        return \"❌ ไม่มีเพลงที่คล้ายคลึงกันใน Dataset\"\n",
        "\n",
        "    return recommended_songs[['track_name', 'artists']]\n",
        "\n",
        "# ทดสอบแนะนำเพลง โดยใช้ชื่อเพลงและนักร้อง\n",
        "print(recommend_similar(\"Starboy\", \"The Weeknd;Daft Punk\", df))\n"
      ],
      "metadata": {
        "colab": {
          "base_uri": "https://localhost:8080/"
        },
        "id": "xnxAubnbeWfQ",
        "outputId": "8eff5457-16bf-4670-bf1b-092c594bebe6"
      },
      "execution_count": 32,
      "outputs": [
        {
          "output_type": "stream",
          "name": "stdout",
          "text": [
            "\u001b[1m3563/3563\u001b[0m \u001b[32m━━━━━━━━━━━━━━━━━━━━\u001b[0m\u001b[37m\u001b[0m \u001b[1m5s\u001b[0m 1ms/step\n",
            "               track_name                                 artists\n",
            "9314         Sem a Planta                       ConeCrewDiretoria\n",
            "111438       Baseball Cap  Faithless;Rollo Armstrong;Sister Bliss\n",
            "60119   Verified Choppa 2                                Marksman\n",
            "111953      Lonely & Cold                                Gramatik\n",
            "60678            Nice Suh                             Vybz Kartel\n"
          ]
        }
      ]
    }
  ]
}